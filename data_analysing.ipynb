{
 "cells": [
  {
   "cell_type": "code",
   "execution_count": 2,
   "metadata": {},
   "outputs": [],
   "source": [
    "import pandas as pd\n",
    "import numpy as np\n",
    "from sklearn.linear_model import LinearRegression\n",
    "from sklearn.model_selection import train_test_split\n",
    "import pickle"
   ]
  },
  {
   "cell_type": "code",
   "execution_count": 3,
   "metadata": {},
   "outputs": [
    {
     "name": "stdout",
     "output_type": "stream",
     "text": [
      "<class 'pandas.core.frame.DataFrame'>\n",
      "RangeIndex: 545 entries, 0 to 544\n",
      "Data columns (total 13 columns):\n",
      " #   Column            Non-Null Count  Dtype \n",
      "---  ------            --------------  ----- \n",
      " 0   price             545 non-null    int64 \n",
      " 1   area              545 non-null    int64 \n",
      " 2   bedrooms          545 non-null    int64 \n",
      " 3   bathrooms         545 non-null    int64 \n",
      " 4   stories           545 non-null    int64 \n",
      " 5   mainroad          545 non-null    object\n",
      " 6   guestroom         545 non-null    object\n",
      " 7   basement          545 non-null    object\n",
      " 8   hotwaterheating   545 non-null    object\n",
      " 9   airconditioning   545 non-null    object\n",
      " 10  parking           545 non-null    int64 \n",
      " 11  prefarea          545 non-null    object\n",
      " 12  furnishingstatus  545 non-null    object\n",
      "dtypes: int64(6), object(7)\n",
      "memory usage: 55.5+ KB\n"
     ]
    }
   ],
   "source": [
    "df = pd.read_csv(\"Housing.csv\")\n",
    "df.describe()\n",
    "df.info()"
   ]
  },
  {
   "cell_type": "code",
   "execution_count": 4,
   "metadata": {},
   "outputs": [],
   "source": [
    "characters = df[['area', 'bedrooms', 'bathrooms', 'stories', 'parking']]\n",
    "label = df['price']"
   ]
  },
  {
   "cell_type": "code",
   "execution_count": 5,
   "metadata": {},
   "outputs": [
    {
     "name": "stdout",
     "output_type": "stream",
     "text": [
      "got the accuracy:  0.8065824237704322\n"
     ]
    }
   ],
   "source": [
    "accuracy = 0\n",
    "# to get the model with best accuracy\n",
    "for _ in range(100):\n",
    "    train_char, test_char, train_label, test_label = train_test_split(characters, label, test_size=0.05)\n",
    "\n",
    "    model = LinearRegression().fit(train_char, train_label)\n",
    "    got_accuracy = model.score(test_char, test_label)\n",
    "    if got_accuracy > accuracy:\n",
    "        accuracy = got_accuracy\n",
    "        with open('housingModel.pickle', 'wb') as file:\n",
    "            pickle.dump(model, file)\n",
    "\n",
    "print(f\"got the accuracy: \", accuracy)"
   ]
  },
  {
   "cell_type": "code",
   "execution_count": 8,
   "metadata": {},
   "outputs": [
    {
     "name": "stdout",
     "output_type": "stream",
     "text": [
      "<input type=\"number\" name=\"area\" min=\"1650\" max=\"16200\" placeholder=\"enter the area\"/>\n",
      "<input type=\"number\" name=\"bedrooms\" min=\"1\" max=\"6\" placeholder=\"enter the bedrooms\"/>\n",
      "<input type=\"number\" name=\"bathrooms\" min=\"1\" max=\"4\" placeholder=\"enter the bathrooms\"/>\n",
      "<input type=\"number\" name=\"stories\" min=\"1\" max=\"4\" placeholder=\"enter the stories\"/>\n",
      "<input type=\"number\" name=\"parking\" min=\"0\" max=\"3\" placeholder=\"enter the parking\"/>\n"
     ]
    }
   ],
   "source": [
    "char = \"area\"\n",
    "print(f'<input type=\"number\" name=\"{char}\" min=\"{min(df[char])}\" max=\"{max(df[char])}\" placeholder=\"enter the {char}\"/>')\n",
    "char = \"bedrooms\"\n",
    "print(f'<input type=\"number\" name=\"{char}\" min=\"{min(df[char])}\" max=\"{max(df[char])}\" placeholder=\"enter the {char}\"/>')\n",
    "char = \"bathrooms\"\n",
    "print(f'<input type=\"number\" name=\"{char}\" min=\"{min(df[char])}\" max=\"{max(df[char])}\" placeholder=\"enter the {char}\"/>')\n",
    "char = \"stories\"\n",
    "print(f'<input type=\"number\" name=\"{char}\" min=\"{min(df[char])}\" max=\"{max(df[char])}\" placeholder=\"enter the {char}\"/>')\n",
    "char = \"parking\"\n",
    "print(f'<input type=\"number\" name=\"{char}\" min=\"{min(df[char])}\" max=\"{max(df[char])}\" placeholder=\"enter the {char}\"/>')\n"
   ]
  }
 ],
 "metadata": {
  "interpreter": {
   "hash": "15e65b28c377db6c5df0d0b9db655043c44ea26203fcc5fe1c6724d41b55ff20"
  },
  "kernelspec": {
   "display_name": "Python 3.8.2 64-bit ('env': venv)",
   "language": "python",
   "name": "python3"
  },
  "language_info": {
   "codemirror_mode": {
    "name": "ipython",
    "version": 3
   },
   "file_extension": ".py",
   "mimetype": "text/x-python",
   "name": "python",
   "nbconvert_exporter": "python",
   "pygments_lexer": "ipython3",
   "version": "3.8.2"
  },
  "orig_nbformat": 4
 },
 "nbformat": 4,
 "nbformat_minor": 2
}
